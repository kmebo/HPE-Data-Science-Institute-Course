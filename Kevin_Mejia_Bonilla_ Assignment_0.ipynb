{
 "cells": [
  {
   "cell_type": "code",
   "execution_count": 1,
   "id": "160548f9-69f2-42e6-a174-1b2538e37000",
   "metadata": {},
   "outputs": [
    {
     "name": "stdout",
     "output_type": "stream",
     "text": [
      "Overwriting add2.py\n"
     ]
    }
   ],
   "source": [
    "%%writefile add2.py\n",
    "import sys\n",
    "\n",
    "if len(sys.argv)<3:\n",
    "    print (\"Please provide 2 numbers\")\n",
    "else:\n",
    "    a= sys.argv[1]\n",
    "    b= sys.argv[2]\n",
    "    \n",
    "    print (f\"sum of {a} and {b} is {float (a) + float (b)}\")"
   ]
  },
  {
   "cell_type": "code",
   "execution_count": 2,
   "id": "6c190074-ebd8-47ae-8e7f-103e43df3b79",
   "metadata": {},
   "outputs": [
    {
     "name": "stdout",
     "output_type": "stream",
     "text": [
      "sum of 3 and 58 is 61.0\n"
     ]
    }
   ],
   "source": [
    "!python add2.py  3 58"
   ]
  },
  {
   "cell_type": "code",
   "execution_count": null,
   "id": "9b203969-49ef-433d-932e-fc485b73f33d",
   "metadata": {},
   "outputs": [],
   "source": []
  }
 ],
 "metadata": {
  "kernelspec": {
   "display_name": "Python 3 (ipykernel)",
   "language": "python",
   "name": "python3"
  },
  "language_info": {
   "codemirror_mode": {
    "name": "ipython",
    "version": 3
   },
   "file_extension": ".py",
   "mimetype": "text/x-python",
   "name": "python",
   "nbconvert_exporter": "python",
   "pygments_lexer": "ipython3",
   "version": "3.10.9"
  }
 },
 "nbformat": 4,
 "nbformat_minor": 5
}
