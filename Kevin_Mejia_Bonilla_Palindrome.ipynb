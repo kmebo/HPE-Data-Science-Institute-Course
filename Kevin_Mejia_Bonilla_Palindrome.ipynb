{
 "cells": [
  {
   "cell_type": "markdown",
   "metadata": {
    "id": "BlLYCuBJKlBs"
   },
   "source": [
    "#Finding Palindromes\n",
    "Write a python program  that takes a string from the command line and identifies and prints if it is a palindrome or not. \n",
    "(A palindrome is a string that is identical when read forward or backward e.g. racecar, abba)<br>\n",
    "##Requirements \n",
    "(1) Your program should capture the string data from the command line <br>\n",
    "(2) Your program should use **python exception** (i.e.)  to validate that the user of the program provides the correct arguements at the command line <br>\n",
    "Hint: You can  use negative indices in For or While loop. See the example use cases below.<br>\n",
    "\n",
    "`python  is_palindrome.py     abba`<br>\n",
    "**True**<br>\n",
    "<br>`python is_palindrome.py cat`<br>\n",
    "**False**<br><br>\n",
    "`python  is_palindrome.py`\n",
    "<br>**Please provide a string additional command line arguement**\n",
    "\n",
    "\n",
    "\n",
    "\n"
   ]
  },
  {
   "cell_type": "code",
   "execution_count": 27,
   "metadata": {},
   "outputs": [
    {
     "name": "stdout",
     "output_type": "stream",
     "text": [
      "Kevin Mejia Bonilla, Peoplesoft ID: 111111\n",
      "\n",
      "Program #6: Is a palindrome?\n",
      "     \n",
      "Scientific Computing With Python\n",
      "     \n",
      "Fall 2023\n",
      "\n",
      "This program computes wheter a string is a palindrome or not.  \n",
      "\n"
     ]
    }
   ],
   "source": [
    "\n",
    "introduction = \"\"\"Kevin Mejia Bonilla, Peoplesoft ID: 111111\n",
    "\n",
    "Program #6: Is a palindrome?\n",
    "     \n",
    "Scientific Computing With Python\n",
    "     \n",
    "Fall 2023\n",
    "\n",
    "This program computes wheter a string is a palindrome or not. \"\"\"\n",
    "print(f\"{introduction} \\n\")"
   ]
  },
  {
   "cell_type": "code",
   "execution_count": 1,
   "metadata": {
    "id": "9qOAubdZKlBu"
   },
   "outputs": [
    {
     "name": "stdout",
     "output_type": "stream",
     "text": [
      "Overwriting is_palindrome.py\n"
     ]
    }
   ],
   "source": [
    "%%writefile is_palindrome.py\n",
    "import sys\n",
    "\n",
    "#try and except blocks ensure to get a string value\n",
    "try:\n",
    "    str_ = (sys.argv[1]).lower()\n",
    "    len_str = len(str_)\n",
    "    my_bool = True\n",
    "    if len_str == 1:\n",
    "        print(f\"'{str_}' is a single character, and a palindromes is at least two characters.\")\n",
    "    else:\n",
    "        n = -1\n",
    "        for i in range(len_str//2):\n",
    "            if str_[i] != str_[n]:\n",
    "                my_bool = False\n",
    "                break\n",
    "            n -= 1\n",
    "        print(my_bool)\n",
    "except IndexError:\n",
    "    print(f'Please provide a string additional command line arguement')"
   ]
  },
  {
   "cell_type": "code",
   "execution_count": 2,
   "metadata": {
    "id": "7gwTbGEeKlBv"
   },
   "outputs": [
    {
     "name": "stdout",
     "output_type": "stream",
     "text": [
      "True\n"
     ]
    }
   ],
   "source": [
    "!python is_palindrome.py   abba"
   ]
  },
  {
   "cell_type": "code",
   "execution_count": 19,
   "metadata": {
    "id": "bOLSA7GoKlBv"
   },
   "outputs": [
    {
     "name": "stdout",
     "output_type": "stream",
     "text": [
      "False\n"
     ]
    }
   ],
   "source": [
    "!python is_palindrome.py     cat"
   ]
  },
  {
   "cell_type": "code",
   "execution_count": 20,
   "metadata": {},
   "outputs": [
    {
     "name": "stdout",
     "output_type": "stream",
     "text": [
      "'a' is a single character, and a palindromes is at least two characters.\n"
     ]
    }
   ],
   "source": [
    "!python is_palindrome.py     A"
   ]
  },
  {
   "cell_type": "code",
   "execution_count": 21,
   "metadata": {},
   "outputs": [
    {
     "name": "stdout",
     "output_type": "stream",
     "text": [
      "True\n"
     ]
    }
   ],
   "source": [
    "!python is_palindrome.py     Aa"
   ]
  },
  {
   "cell_type": "code",
   "execution_count": 22,
   "metadata": {},
   "outputs": [
    {
     "name": "stdout",
     "output_type": "stream",
     "text": [
      "True\n"
     ]
    }
   ],
   "source": [
    "!python is_palindrome.py     Bb"
   ]
  },
  {
   "cell_type": "code",
   "execution_count": 23,
   "metadata": {},
   "outputs": [
    {
     "name": "stdout",
     "output_type": "stream",
     "text": [
      "Please provide a string additional command line arguement\n"
     ]
    }
   ],
   "source": [
    "!python is_palindrome.py "
   ]
  }
 ],
 "metadata": {
  "colab": {
   "provenance": []
  },
  "kernelspec": {
   "display_name": "Python 3 (ipykernel)",
   "language": "python",
   "name": "python3"
  },
  "language_info": {
   "codemirror_mode": {
    "name": "ipython",
    "version": 3
   },
   "file_extension": ".py",
   "mimetype": "text/x-python",
   "name": "python",
   "nbconvert_exporter": "python",
   "pygments_lexer": "ipython3",
   "version": "3.10.9"
  }
 },
 "nbformat": 4,
 "nbformat_minor": 4
}
